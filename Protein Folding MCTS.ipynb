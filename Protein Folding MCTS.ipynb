{
 "cells": [
  {
   "cell_type": "code",
   "execution_count": 1,
   "metadata": {},
   "outputs": [],
   "source": [
    "from lattice2d_linear_env import Lattice2DLinearEnv\n",
    "import numpy as np\n",
    "import math\n",
    "import random"
   ]
  },
  {
   "cell_type": "code",
   "execution_count": 2,
   "metadata": {},
   "outputs": [
    {
     "name": "stderr",
     "output_type": "stream",
     "text": [
      "C:\\Users\\binyu\\Anaconda3\\lib\\site-packages\\gym\\logger.py:30: UserWarning: \u001b[33mWARN: Your agent was trapped! Ending the episode.\u001b[0m\n",
      "  warnings.warn(colorize('%s: %s'%('WARN', msg % args), 'yellow'))\n"
     ]
    }
   ],
   "source": [
    "C = 1.41 # Constant in MCTS exploration\n",
    "env = Lattice2DLinearEnv(\"HHPHPHHPPH\")"
   ]
  },
  {
   "cell_type": "code",
   "execution_count": 3,
   "metadata": {},
   "outputs": [],
   "source": [
    "class MCTSNode():\n",
    "    def __init__(self, state, parent = None):\n",
    "        self.state = state # state = tuple of ele in (0,1,2) denoting actions taken thus far\n",
    "        self.Q = 0\n",
    "        self.N = 0\n",
    "        self.children = {} # dict of children: Action : Child\n",
    "        self.parent = parent\n",
    "        self.score = 0.0\n",
    "        self.avg_Q = 0.0\n",
    "        \n",
    "    def add_child(self, child, action):\n",
    "        self.children.update( {action: child} )\n",
    "    \n",
    "    def update(self, Q):\n",
    "        if self.parent != None:\n",
    "            self.Q += Q\n",
    "            self.N += 1\n",
    "            self.score = self.Q / self.N + 2 * C * math.sqrt(2 * math.log(self.parent.N + 1) / self.N)\n",
    "            self.avg_Q = self.Q / self.N\n",
    "            self.parent.update(Q) "
   ]
  },
  {
   "cell_type": "code",
   "execution_count": 4,
   "metadata": {},
   "outputs": [],
   "source": [
    "def MCTS(root, max_iter):\n",
    "    for i in range(max_iter):\n",
    "        # print(\"Iteration {}\".format(i))\n",
    "        leaf = traverse(root)\n",
    "        # print(leaf.state)\n",
    "        sim_result = rollout(leaf)\n",
    "        leaf.update(sim_result)\n",
    "        \n",
    "    return best_action(root)"
   ]
  },
  {
   "cell_type": "code",
   "execution_count": 5,
   "metadata": {},
   "outputs": [],
   "source": [
    "def traverse(node):\n",
    "    while len(list(node.children.keys())) == 3 and len(node.state) <= len(env.seq) - 1: # While fully expanded\n",
    "        node = best_uct(node)\n",
    "        \n",
    "    if len(node.state) == len(env.seq) - 1: # If node is terminal\n",
    "        return node\n",
    "    \n",
    "    if len(list(node.children.values())) != 3: # Not fully expanded -> pick unvisited child\n",
    "        unvisited = [a for a in range(3) if a not in list(node.children.keys())] # list of untaken actions / unvisited children\n",
    "        action = random.choice(unvisited)\n",
    "        child = MCTSNode(node.state + (action,), node)\n",
    "        node.add_child(child, action)\n",
    "        return child"
   ]
  },
  {
   "cell_type": "code",
   "execution_count": 6,
   "metadata": {},
   "outputs": [],
   "source": [
    "def rollout(node):\n",
    "    trajectory = node.state\n",
    "    while len(trajectory) != len(env.seq) - 1:\n",
    "        trajectory += (random.choice(range(3)),) # simulate random policy until end of the game\n",
    "    # Compute reward\n",
    "    state = env.reset()\n",
    "    a = 0\n",
    "    reward = 0\n",
    "    for i in range(len(trajectory)):\n",
    "        # print(a, end = \" \")\n",
    "        _, reward, _, _ = env.step(a)\n",
    "        a = (3 * a + trajectory[i]) % 4\n",
    "    return reward"
   ]
  },
  {
   "cell_type": "code",
   "execution_count": 7,
   "metadata": {},
   "outputs": [],
   "source": [
    "def best_action(node):\n",
    "    action = list(node.children.keys())[0]\n",
    "    for i in list(node.children.keys()):\n",
    "        if node.children[i].avg_Q > node.children[action].avg_Q:\n",
    "            action = i\n",
    "    return action"
   ]
  },
  {
   "cell_type": "code",
   "execution_count": 8,
   "metadata": {},
   "outputs": [],
   "source": [
    "def best_uct(node):\n",
    "    child = node.children[0]\n",
    "    for i in range(3):\n",
    "        if node.children[i].score > child.score:\n",
    "            child = node.children[i]\n",
    "    return child"
   ]
  },
  {
   "cell_type": "code",
   "execution_count": 9,
   "metadata": {},
   "outputs": [],
   "source": [
    "def run_MCTS_policy(root, best):\n",
    "    state = env.reset()\n",
    "    a = 0\n",
    "    while True:\n",
    "        # print(root.state)\n",
    "        _, _, done, _ = env.step(a)\n",
    "        env.render()\n",
    "        if done:\n",
    "            break\n",
    "        best = best_action(root)\n",
    "        root = root.children[best]\n",
    "        a = (3 * a + best) % 4"
   ]
  },
  {
   "cell_type": "code",
   "execution_count": 10,
   "metadata": {
    "scrolled": false
   },
   "outputs": [
    {
     "name": "stderr",
     "output_type": "stream",
     "text": [
      "C:\\Users\\binyu\\Anaconda3\\lib\\site-packages\\gym\\logger.py:30: UserWarning: \u001b[33mWARN: Your agent was trapped! Ending the episode.\u001b[0m\n",
      "  warnings.warn(colorize('%s: %s'%('WARN', msg % args), 'yellow'))\n"
     ]
    }
   ],
   "source": [
    "root = MCTSNode(())\n",
    "best = MCTS(root, 20000)"
   ]
  },
  {
   "cell_type": "code",
   "execution_count": 11,
   "metadata": {
    "scrolled": false
   },
   "outputs": [
    {
     "data": {
      "image/png": "[encoded data removed]",
      "text/plain": [
       "<Figure size 432x288 with 1 Axes>"
      ]
     },
     "metadata": {},
     "output_type": "display_data"
    },
    {
     "data": {
      "image/png": "[encoded data removed]",
      "text/plain": [
       "<Figure size 432x288 with 1 Axes>"
      ]
     },
     "metadata": {},
     "output_type": "display_data"
    },
    {
     "data": {
      "image/png": "[encoded data removed]",
      "text/plain": [
       "<Figure size 432x288 with 1 Axes>"
      ]
     },
     "metadata": {},
     "output_type": "display_data"
    },
    {
     "data": {
      "image/png": "[encoded data removed]",
      "text/plain": [
       "<Figure size 432x288 with 1 Axes>"
      ]
     },
     "metadata": {},
     "output_type": "display_data"
    },
    {
     "data": {
      "image/png": "[encoded data removed]",
      "text/plain": [
       "<Figure size 432x288 with 1 Axes>"
      ]
     },
     "metadata": {},
     "output_type": "display_data"
    },
    {
     "data": {
      "image/png": "[encoded data removed]",
      "text/plain": [
       "<Figure size 432x288 with 1 Axes>"
      ]
     },
     "metadata": {},
     "output_type": "display_data"
    },
    {
     "data": {
      "image/png": "[encoded data removed]",
      "text/plain": [
       "<Figure size 432x288 with 1 Axes>"
      ]
     },
     "metadata": {},
     "output_type": "display_data"
    },
    {
     "data": {
      "image/png": "[encoded data removed]",
      "text/plain": [
       "<Figure size 432x288 with 1 Axes>"
      ]
     },
     "metadata": {},
     "output_type": "display_data"
    },
    {
     "data": {
      "image/png": "[encoded data removed]",
      "text/plain": [
       "<Figure size 432x288 with 1 Axes>"
      ]
     },
     "metadata": {},
     "output_type": "display_data"
    }
   ],
   "source": [
    "run_MCTS_policy(root, best)"
   ]
  },
  {
   "cell_type": "code",
   "execution_count": null,
   "metadata": {},
   "outputs": [],
   "source": []
  }
 ],
 "metadata": {
  "kernelspec": {
   "display_name": "Python 3",
   "language": "python",
   "name": "python3"
  },
  "language_info": {
   "codemirror_mode": {
    "name": "ipython",
    "version": 3
   },
   "file_extension": ".py",
   "mimetype": "text/x-python",
   "name": "python",
   "nbconvert_exporter": "python",
   "pygments_lexer": "ipython3",
   "version": "3.6.5"
  }
 },
 "nbformat": 4,
 "nbformat_minor": 2
}
