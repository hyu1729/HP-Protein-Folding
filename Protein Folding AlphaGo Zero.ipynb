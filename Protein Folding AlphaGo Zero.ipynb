{
 "cells": [
  {
   "cell_type": "code",
   "execution_count": 19,
   "metadata": {},
   "outputs": [],
   "source": [
    "import math\n",
    "import random\n",
    "import numpy as np\n",
    "import torch \n",
    "import torch.optim as optim\n",
    "import torch.nn as nn\n",
    "from copy import deepcopy\n",
    "import asyncio\n",
    "import nest_asyncio\n",
    "from HP2D_Env import HP2D\n",
    "from lattice2d_linear_env import Lattice2DLinearEnv\n",
    "from MCTS import MCTS\n",
    "from MCTSS import MCTSS, MCTSNode\n",
    "from models import DualRes\n",
    "from tqdm import tqdm\n",
    "import time\n",
    "from IPython.display import clear_output\n",
    "import matplotlib.pyplot as plt\n",
    "%matplotlib inline\n",
    "nest_asyncio.apply()"
   ]
  },
  {
   "cell_type": "code",
   "execution_count": 2,
   "metadata": {},
   "outputs": [
    {
     "name": "stdout",
     "output_type": "stream",
     "text": [
      "Using GPU: GPU requested and available.\n"
     ]
    }
   ],
   "source": [
    "USE_CUDA = torch.cuda.is_available()\n",
    "if USE_CUDA:\n",
    "    print(\"Using GPU: GPU requested and available.\")\n",
    "    dtype = torch.cuda.FloatTensor\n",
    "    dtypelong = torch.cuda.LongTensor\n",
    "else:\n",
    "    print(\"NOT Using GPU: GPU not requested or not available.\")\n",
    "    dtype = torch.FloatTensor\n",
    "    dtypelong = torch.LongTensor"
   ]
  },
  {
   "cell_type": "code",
   "execution_count": 3,
   "metadata": {},
   "outputs": [],
   "source": [
    "from collections import deque\n",
    "\n",
    "class ReplayBuffer(object):\n",
    "    def __init__(self, capacity):\n",
    "        self.buffer = deque(maxlen=capacity)\n",
    "\n",
    "    def push(self, state, prob, value):\n",
    "        state = np.expand_dims(state, 0)\n",
    "        self.buffer.append((state, prob, value))\n",
    "\n",
    "    def sample(self, batch_size):\n",
    "        state, prob, value = zip(*random.sample(self.buffer, batch_size))\n",
    "        return np.concatenate(state), prob, value\n",
    "\n",
    "    def __len__(self):\n",
    "        return len(self.buffer)\n",
    "    \n",
    "replay_size = 60000\n",
    "replay_buffer = ReplayBuffer(replay_size)"
   ]
  },
  {
   "cell_type": "code",
   "execution_count": 4,
   "metadata": {},
   "outputs": [],
   "source": [
    "dualres = DualRes(10, 4, USE_CUDA)\n",
    "best_player = deepcopy(dualres)\n",
    "\n",
    "if USE_CUDA:\n",
    "    dualres = dualres.cuda()\n",
    "    best_player = best_player.cuda()"
   ]
  },
  {
   "cell_type": "code",
   "execution_count": 5,
   "metadata": {},
   "outputs": [
    {
     "data": {
      "text/plain": [
       "<All keys matched successfully>"
      ]
     },
     "execution_count": 5,
     "metadata": {},
     "output_type": "execute_result"
    }
   ],
   "source": [
    "test_model = DualRes(10, 4, USE_CUDA, blocks_sizes = [128], deepths = [2])\n",
    "if USE_CUDA:\n",
    "    test_model = test_model.cuda()\n",
    "    \n",
    "# Load pretrained params\n",
    "test_model.load_state_dict(torch.load('test_model_pretrained.pt'))"
   ]
  },
  {
   "cell_type": "code",
   "execution_count": 6,
   "metadata": {},
   "outputs": [],
   "source": [
    "class AlphaLoss(nn.Module):\n",
    "    def __init__(self):\n",
    "        super(AlphaLoss, self).__init__()\n",
    "        \n",
    "    def forward(self, pred_v, v, pred_p, p):\n",
    "        ve = nn.MSELoss(reduction = 'none')\n",
    "        v_err = ve(pred_v.view(-1), v)\n",
    "        p_err = torch.sum((-p * (1e-15 + pred_p).log()), dim = 1)\n",
    "        tot_err = (v_err + p_err).mean()\n",
    "        return tot_err"
   ]
  },
  {
   "cell_type": "code",
   "execution_count": 7,
   "metadata": {},
   "outputs": [],
   "source": [
    "def compute_loss(net, batch_size, replay_buffer, optimizer, criterion):\n",
    "    state, p, v = replay_buffer.sample(batch_size)\n",
    "    state = torch.tensor(np.float32(state)).type(dtype)\n",
    "    p = torch.tensor(np.float32(p)).type(dtype)\n",
    "    v = torch.tensor(v).type(dtype)\n",
    "    \n",
    "    pred_p, pred_v = net(state)\n",
    "    loss = criterion(pred_v, v, pred_p, p)\n",
    "    optimizer.zero_grad()\n",
    "    loss.backward()\n",
    "    optimizer.step()\n",
    "    return loss"
   ]
  },
  {
   "cell_type": "code",
   "execution_count": 8,
   "metadata": {},
   "outputs": [],
   "source": [
    "def hard_update(q_network, target_q_network):\n",
    "    for t_param, param in zip(target_q_network.parameters(), q_network.parameters()):\n",
    "        if t_param is param:\n",
    "            continue\n",
    "        new_param = param.data\n",
    "        t_param.data.copy_(new_param)"
   ]
  },
  {
   "cell_type": "code",
   "execution_count": 28,
   "metadata": {},
   "outputs": [],
   "source": [
    "file = open('seqs.txt', 'r')\n",
    "seq_list = file.readlines()\n",
    "max_length = 5\n",
    "# Get sequences with length <= max_length\n",
    "seqs = [s for s in seq_list if len(s) <= max_length + 1]\n",
    "test_seqs = random.sample(seqs, len(seqs) // 10)\n",
    "train_seqs = [s for s in seqs if s not in test_seqs]"
   ]
  },
  {
   "cell_type": "code",
   "execution_count": 29,
   "metadata": {},
   "outputs": [
    {
     "data": {
      "text/plain": [
       "48"
      ]
     },
     "execution_count": 29,
     "metadata": {},
     "output_type": "execute_result"
    }
   ],
   "source": [
    "len(seqs)"
   ]
  },
  {
   "cell_type": "markdown",
   "metadata": {},
   "source": [
    "## Pretrain"
   ]
  },
  {
   "cell_type": "code",
   "execution_count": null,
   "metadata": {},
   "outputs": [],
   "source": [
    "# Fill replay buffer (training on sequences with length <= 15)\n",
    "ss = [s for s in seq_list if len(s) <= 16]\n",
    "for seq in tqdm(ss):\n",
    "    root = MCTSNode(())\n",
    "    mcts = MCTSS(seq[:-1], 300, (10,11,11))\n",
    "    mcts.get_prob(root)\n",
    "    data = mcts.get_data(root)\n",
    "    for i in range(len(data)):\n",
    "        replay_buffer.push(data[i][0], data[i][1], data[i][2])"
   ]
  },
  {
   "cell_type": "code",
   "execution_count": null,
   "metadata": {},
   "outputs": [],
   "source": [
    "# Train using pregenerated data, not neural net MCTS\n",
    "criterion = AlphaLoss()\n",
    "optimizer = optim.Adam(test_model.parameters(), lr = 0.001)\n",
    "losses = []\n",
    "\n",
    "# 10000 Epochs, 10 updates per epoch, batch size 32\n",
    "for ts in tqdm(range(10000)):\n",
    "    for _ in range(10):\n",
    "        if len(replay_buffer) > 32:\n",
    "            loss = compute_loss(test_model, 32, replay_buffer, optimizer, criterion)\n",
    "            losses.append(loss)"
   ]
  },
  {
   "cell_type": "code",
   "execution_count": 13,
   "metadata": {},
   "outputs": [
    {
     "data": {
      "text/plain": [
       "[<matplotlib.lines.Line2D at 0x2387abe4dc8>]"
      ]
     },
     "execution_count": 13,
     "metadata": {},
     "output_type": "execute_result"
    },
    {
     "data": {
      "image/png": "[encoded data removed]",
      "text/plain": [
       "<Figure size 432x288 with 1 Axes>"
      ]
     },
     "metadata": {
      "needs_background": "light"
     },
     "output_type": "display_data"
    }
   ],
   "source": [
    "plt.plot(losses)"
   ]
  },
  {
   "cell_type": "code",
   "execution_count": 21,
   "metadata": {
    "collapsed": true
   },
   "outputs": [
    {
     "name": "stdout",
     "output_type": "stream",
     "text": [
      "PHPPHHPPHPHHP\n",
      "[((5, 5), 'P'), ((5, 4), 'H'), ((5, 3), 'P'), ((6, 3), 'P'), ((6, 4), 'H'), ((7, 4), 'H'), ((7, 3), 'P'), ((8, 3), 'P'), ((8, 4), 'H'), ((8, 5), 'P'), ((9, 5), 'H'), ((9, 6), 'H'), ((9, 7), 'P')]\n",
      "0.3333333333333333\n"
     ]
    },
    {
     "data": {
      "image/png": "[encoded data removed]",
      "text/plain": [
       "<Figure size 432x288 with 1 Axes>"
      ]
     },
     "metadata": {
      "needs_background": "light"
     },
     "output_type": "display_data"
    },
    {
     "data": {
      "image/png": "[encoded data removed]",
      "text/plain": [
       "<Figure size 432x288 with 1 Axes>"
      ]
     },
     "metadata": {
      "needs_background": "light"
     },
     "output_type": "display_data"
    },
    {
     "data": {
      "image/png": "[encoded data removed]",
      "text/plain": [
       "<Figure size 432x288 with 1 Axes>"
      ]
     },
     "metadata": {
      "needs_background": "light"
     },
     "output_type": "display_data"
    },
    {
     "data": {
      "image/png": "[encoded data removed]",
      "text/plain": [
       "<Figure size 432x288 with 1 Axes>"
      ]
     },
     "metadata": {
      "needs_background": "light"
     },
     "output_type": "display_data"
    },
    {
     "data": {
      "image/png": "[encoded data removed]",
      "text/plain": [
       "<Figure size 432x288 with 1 Axes>"
      ]
     },
     "metadata": {
      "needs_background": "light"
     },
     "output_type": "display_data"
    },
    {
     "data": {
      "image/png": "[encoded data removed]",
      "text/plain": [
       "<Figure size 432x288 with 1 Axes>"
      ]
     },
     "metadata": {
      "needs_background": "light"
     },
     "output_type": "display_data"
    },
    {
     "data": {
      "image/png": "[encoded data removed]",
      "text/plain": [
       "<Figure size 432x288 with 1 Axes>"
      ]
     },
     "metadata": {
      "needs_background": "light"
     },
     "output_type": "display_data"
    },
    {
     "data": {
      "image/png": "[encoded data removed]",
      "text/plain": [
       "<Figure size 432x288 with 1 Axes>"
      ]
     },
     "metadata": {
      "needs_background": "light"
     },
     "output_type": "display_data"
    },
    {
     "data": {
      "image/png": "[encoded data removed]",
      "text/plain": [
       "<Figure size 432x288 with 1 Axes>"
      ]
     },
     "metadata": {
      "needs_background": "light"
     },
     "output_type": "display_data"
    },
    {
     "data": {
      "image/png": "[encoded data removed]",
      "text/plain": [
       "<Figure size 432x288 with 1 Axes>"
      ]
     },
     "metadata": {
      "needs_background": "light"
     },
     "output_type": "display_data"
    },
    {
     "data": {
      "image/png": "[encoded data removed]",
      "text/plain": [
       "<Figure size 432x288 with 1 Axes>"
      ]
     },
     "metadata": {
      "needs_background": "light"
     },
     "output_type": "display_data"
    },
    {
     "data": {
      "image/png": "[encoded data removed]",
      "text/plain": [
       "<Figure size 432x288 with 1 Axes>"
      ]
     },
     "metadata": {
      "needs_background": "light"
     },
     "output_type": "display_data"
    }
   ],
   "source": [
    "# Test pretrained model\n",
    "\n",
    "seq = random.sample(seqs, 1)[0][:-1]\n",
    "print(seq)\n",
    "env = HP2D(seq, (10,11,11))\n",
    "tenv = Lattice2DLinearEnv(seq)\n",
    "tstate = tenv.reset()\n",
    "state = env.make_state()\n",
    "for t in range(len(seq) - 1):\n",
    "    mcts   = MCTS(env, test_model, 300, cpuct = 5)\n",
    "    pi     = mcts.get_prob(state, temp = 0)\n",
    "    action = np.random.choice(len(pi), p = pi)\n",
    "    state  = env.next_state(state, action)\n",
    "    tenv.step(action)\n",
    "    tenv.render()\n",
    "print(env.calc_score(state))"
   ]
  },
  {
   "cell_type": "code",
   "execution_count": 22,
   "metadata": {},
   "outputs": [],
   "source": [
    "# Save pretrained model parameters\n",
    "torch.save(test_model.state_dict(), 'test_model_pretrained.pt')"
   ]
  },
  {
   "cell_type": "code",
   "execution_count": 31,
   "metadata": {},
   "outputs": [
    {
     "name": "stdout",
     "output_type": "stream",
     "text": [
      "[9.9643010e-01 3.5262038e-03 2.4940984e-05 1.8776973e-05] [0.45022777]\n",
      "[4.5815632e-03 9.9503034e-01 3.8795455e-04 2.0108185e-07] [0.46705297]\n",
      "[1.1544039e-17 9.2828685e-07 4.9035765e-13 9.9999905e-01] [0.5388973]\n",
      "[2.2049408e-08 9.8436689e-01 6.9276906e-10 1.5633130e-02] [0.60373914]\n"
     ]
    }
   ],
   "source": [
    "testenv = HP2D('HPPH', (10, 11, 11))\n",
    "teststate = testenv.make_state()\n",
    "testpi, testv = test_model.predict(teststate)\n",
    "print(testpi, testv)\n",
    "teststate = testenv.next_state(teststate, 0)\n",
    "testpi, testv = test_model.predict(teststate)\n",
    "print(testpi, testv)\n",
    "teststate = testenv.next_state(teststate, 1)\n",
    "testpi, testv = test_model.predict(teststate)\n",
    "print(testpi, testv)\n",
    "teststate = testenv.next_state(teststate, 3)\n",
    "testpi, testv = test_model.predict(teststate)\n",
    "print(testpi, testv)"
   ]
  },
  {
   "cell_type": "code",
   "execution_count": 45,
   "metadata": {
    "scrolled": false
   },
   "outputs": [
    {
     "name": "stdout",
     "output_type": "stream",
     "text": [
      "[((5, 5), 'H'), ((5, 4), 'P'), ((4, 4), 'H'), ((4, 5), 'H'), ((3, 5), 'P')]\n",
      "0.5\n",
      "[((5, 5), 'H'), ((5, 4), 'H'), ((6, 4), 'P'), ((7, 4), 'P'), ((7, 3), 'P')]\n",
      "0.0\n",
      "[((5, 5), 'H'), ((5, 4), 'H'), ((6, 4), 'H'), ((6, 5), 'H'), ((6, 6), 'P')]\n",
      "0.25\n",
      "[((5, 5), 'P'), ((5, 4), 'P'), ((4, 4), 'P'), ((4, 3), 'P'), ((4, 2), 'P')]\n",
      "0\n",
      "[((5, 5), 'H'), ((5, 4), 'H'), ((5, 3), 'H'), ((6, 3), 'H'), ((6, 4), 'H')]\n",
      "0.25\n",
      "[((5, 5), 'H'), ((5, 4), 'P'), ((6, 4), 'H'), ((6, 5), 'P')]\n",
      "0\n",
      "[((5, 5), 'H'), ((5, 4), 'P'), ((5, 3), 'P'), ((6, 3), 'H'), ((6, 2), 'H')]\n",
      "0.0\n",
      "[((5, 5), 'P'), ((5, 4), 'H'), ((5, 3), 'H'), ((4, 3), 'H')]\n",
      "-0.5\n",
      "[((5, 5), 'P'), ((5, 4), 'P'), ((4, 4), 'P'), ((3, 4), 'H')]\n",
      "0\n",
      "[((5, 5), 'H'), ((5, 4), 'H'), ((5, 3), 'H'), ((6, 3), 'P'), ((6, 4), 'H')]\n",
      "0.5\n"
     ]
    },
    {
     "data": {
      "image/png": "[encoded data removed]",
      "text/plain": [
       "<Figure size 432x288 with 1 Axes>"
      ]
     },
     "metadata": {
      "needs_background": "light"
     },
     "output_type": "display_data"
    },
    {
     "data": {
      "image/png": "[encoded data removed]",
      "text/plain": [
       "<Figure size 432x288 with 1 Axes>"
      ]
     },
     "metadata": {
      "needs_background": "light"
     },
     "output_type": "display_data"
    },
    {
     "data": {
      "image/png": "[encoded data removed]",
      "text/plain": [
       "<Figure size 432x288 with 1 Axes>"
      ]
     },
     "metadata": {
      "needs_background": "light"
     },
     "output_type": "display_data"
    },
    {
     "data": {
      "image/png": "[encoded data removed]",
      "text/plain": [
       "<Figure size 432x288 with 1 Axes>"
      ]
     },
     "metadata": {
      "needs_background": "light"
     },
     "output_type": "display_data"
    },
    {
     "data": {
      "image/png": "[encoded data removed]",
      "text/plain": [
       "<Figure size 432x288 with 1 Axes>"
      ]
     },
     "metadata": {
      "needs_background": "light"
     },
     "output_type": "display_data"
    },
    {
     "data": {
      "image/png": "[encoded data removed]",
      "text/plain": [
       "<Figure size 432x288 with 1 Axes>"
      ]
     },
     "metadata": {
      "needs_background": "light"
     },
     "output_type": "display_data"
    },
    {
     "data": {
      "image/png": "[encoded data removed]",
      "text/plain": [
       "<Figure size 432x288 with 1 Axes>"
      ]
     },
     "metadata": {
      "needs_background": "light"
     },
     "output_type": "display_data"
    },
    {
     "data": {
      "image/png": "[encoded data removed]",
      "text/plain": [
       "<Figure size 432x288 with 1 Axes>"
      ]
     },
     "metadata": {
      "needs_background": "light"
     },
     "output_type": "display_data"
    },
    {
     "data": {
      "image/png": "[encoded data removed]",
      "text/plain": [
       "<Figure size 432x288 with 1 Axes>"
      ]
     },
     "metadata": {
      "needs_background": "light"
     },
     "output_type": "display_data"
    },
    {
     "data": {
      "image/png": "[encoded data removed]",
      "text/plain": [
       "<Figure size 432x288 with 1 Axes>"
      ]
     },
     "metadata": {
      "needs_background": "light"
     },
     "output_type": "display_data"
    }
   ],
   "source": [
    "# Sequences with max length 5\n",
    "\n",
    "minitestseqs = random.sample(seqs, 10)\n",
    "for s in minitestseqs:\n",
    "    env = HP2D(s[:-1], (10,11,11))\n",
    "    tenv = Lattice2DLinearEnv(s[:-1])\n",
    "    tenv.reset()\n",
    "    state = env.make_state()\n",
    "    for t in range(len(s) - 2):\n",
    "        mcts   = MCTS(env, test_model, 300, cpuct = 5)\n",
    "        pi     = mcts.get_prob(state, temp = 0)\n",
    "        action = np.random.choice(len(pi), p = pi)\n",
    "        state  = env.next_state(state, action)    \n",
    "        tenv.step(action)\n",
    "    tenv.render()\n",
    "    print(env.calc_score(state))"
   ]
  },
  {
   "cell_type": "code",
   "execution_count": 40,
   "metadata": {},
   "outputs": [],
   "source": [
    "async def train():\n",
    "    criterion = AlphaLoss()\n",
    "    optimizer = optim.Adam(test_model.parameters(), lr = 0.001)\n",
    "    loss = []\n",
    "    for _ in range(10):\n",
    "        loss.append(compute_loss(test_model, batch_size, replay_buffer, optimizer, criterion))\n",
    "    return loss"
   ]
  },
  {
   "cell_type": "code",
   "execution_count": 41,
   "metadata": {},
   "outputs": [],
   "source": [
    "async def play(num_iter, num_games):\n",
    "    '''\n",
    "    Plays num_games games with the current network.\n",
    "    For each game, adds len(seq) - 1 data points (s_t, pi_t, z_t) to replay buffer.\n",
    "    '''\n",
    "    for g in range(num_games):\n",
    "        seq = random.sample(train_seqs, 1)[0][:-1]\n",
    "        # print(\"Game {} / {}: {}\".format(g + 1, num_games, seq))\n",
    "        env = HP2D(seq, (10,11,11))\n",
    "        states = []\n",
    "        probs = []\n",
    "        state = env.make_state()\n",
    "        for t in range(len(seq) - 1):\n",
    "            temp = int(t < len(seq) // 10)\n",
    "            mcts = MCTS(env, test_model, num_iter, cpuct = 5)\n",
    "            pi_t = mcts.get_prob(state, temp = temp)\n",
    "            sym = get_syms(state, pi_t)\n",
    "            for s, p in sym:\n",
    "                states.append(s)\n",
    "                probs.append(p)\n",
    "            action = np.random.choice(len(pi_t), p = pi_t)\n",
    "            state = env.next_state(state, action)\n",
    "        reward = env.calc_score(states[-1])\n",
    "        for i in range(len(states)):\n",
    "            replay_buffer.push(states[i], probs[i], reward)"
   ]
  },
  {
   "cell_type": "code",
   "execution_count": 42,
   "metadata": {},
   "outputs": [],
   "source": [
    "async def evaluate(num_iter):\n",
    "    '''\n",
    "    Evaluates using 10 games with current network, compare results to hypothetical maximum.\n",
    "    Returns a float between (0, 1): score / hyp_max score\n",
    "    '''\n",
    "    seqs = test_seqs\n",
    "    total = 0\n",
    "    for s in seqs:\n",
    "        env = HP2D(s[:-1], (10,11,11))\n",
    "        state = env.make_state()\n",
    "        for t in range(len(s) - 1):\n",
    "            mcts   = MCTS(env, test_model, num_iter, cpuct = 5)\n",
    "            pi     = mcts.get_prob(state, temp = 0)\n",
    "            action = np.random.choice(len(pi), p = pi)\n",
    "            state  = env.next_state(state, action)    \n",
    "        total += env.calc_score(state)\n",
    "    return total / 10"
   ]
  },
  {
   "cell_type": "code",
   "execution_count": 43,
   "metadata": {},
   "outputs": [],
   "source": [
    "def get_syms(state, pi):\n",
    "    \"\"\"\n",
    "    Input:\n",
    "        board: current board\n",
    "        pi: policy vector of size self.get_prob()\n",
    "    Returns:\n",
    "        symmForms: a list of [(board,pi)] where each tuple is a symmetrical\n",
    "                   form of the board and the corresponding pi vector. This\n",
    "                   is used when training the neural network from examples.\n",
    "    \"\"\"\n",
    "    assert(len(pi) == 4)\n",
    "    l = []\n",
    "    \n",
    "    def rotate(pi, n):\n",
    "        for _ in range(n):\n",
    "            temp = pi\n",
    "            pi = [temp[1], temp[3], temp[0], temp[2]]\n",
    "        return pi\n",
    "    \n",
    "    def flip(pi):\n",
    "        return [pi[3], pi[1], pi[2], pi[0]]\n",
    "        \n",
    "    for i in range(1, 5):\n",
    "        for j in [True, False]:\n",
    "            new_state = np.rot90(state, i, (1, 2))\n",
    "            new_pi = rotate(pi, i)\n",
    "            if j:\n",
    "                new_state = np.fliplr(new_state)\n",
    "                new_pi = flip(new_pi)\n",
    "            l += [(new_state, new_pi)]\n",
    "    return l"
   ]
  },
  {
   "cell_type": "code",
   "execution_count": 44,
   "metadata": {},
   "outputs": [],
   "source": [
    "async def main(num_timesteps, num_games, num_iter, batch_size):\n",
    "    '''\n",
    "    Executing play, train, evaluate asynchronously in parallel.\n",
    "    '''\n",
    "\n",
    "    losses = []\n",
    "    scores = []\n",
    "\n",
    "    for ts in tqdm(range(1, num_timesteps + 1)):\n",
    "        # clear_output(wait = True)\n",
    "        # print('Timestep {} / {}'.format(ts, num_timesteps))\n",
    "        flag = False\n",
    "        \n",
    "        # Data generation\n",
    "        playing = loop.create_task(play(num_iter, num_games))\n",
    "\n",
    "        # Update params\n",
    "        if len(replay_buffer) > batch_size:\n",
    "            training = loop.create_task(train())\n",
    "            flag = True\n",
    "        \n",
    "        # Evaluate agent\n",
    "        if ts % 200 == 0:\n",
    "            evaluating = loop.create_task(evaluate(num_iter))\n",
    "            await asyncio.wait([playing, training, evaluating])\n",
    "            \n",
    "            score = evaluating.result()\n",
    "            scores.append(score)\n",
    "        else:\n",
    "            if flag:\n",
    "                await asyncio.wait([playing, training])\n",
    "            \n",
    "                loss = training.result()\n",
    "                losses.append(loss)\n",
    "            else:\n",
    "                await asyncio.wait([playing])\n",
    "\n",
    "    return losses, scores"
   ]
  },
  {
   "cell_type": "code",
   "execution_count": null,
   "metadata": {
    "scrolled": true
   },
   "outputs": [],
   "source": [
    "num_timesteps = 100\n",
    "num_games = 15\n",
    "num_iter = 10\n",
    "batch_size = 32\n",
    "\n",
    "loop = asyncio.get_event_loop()\n",
    "\n",
    "losses, scores = loop.run_until_complete(main(num_timesteps, num_games, num_iter, batch_size))"
   ]
  },
  {
   "cell_type": "code",
   "execution_count": null,
   "metadata": {},
   "outputs": [],
   "source": [
    "# torch.save(dualres.state_dict(), 'PFZeroNet.pt')"
   ]
  },
  {
   "cell_type": "code",
   "execution_count": null,
   "metadata": {},
   "outputs": [],
   "source": [
    "# model = DualRes(10, 4, USE_CUDA)\n",
    "# if USE_CUDA:\n",
    "#     model = model.cuda()\n",
    "# model.load_state_dict(torch.load('PFZeroNet.pt'))"
   ]
  },
  {
   "cell_type": "code",
   "execution_count": null,
   "metadata": {
    "scrolled": true
   },
   "outputs": [],
   "source": [
    "import matplotlib.pyplot as plt\n",
    "%matplotlib inline\n",
    "\n",
    "fig = plt.figure(figsize = (10, 5))\n",
    "ax = plt.subplot(1,2,1)\n",
    "plt.plot(losses)\n",
    "ax = plt.subplot(1,2,2)\n",
    "plt.plot(scores)"
   ]
  }
 ],
 "metadata": {
  "kernelspec": {
   "display_name": "Python 3",
   "language": "python",
   "name": "python3"
  },
  "language_info": {
   "codemirror_mode": {
    "name": "ipython",
    "version": 3
   },
   "file_extension": ".py",
   "mimetype": "text/x-python",
   "name": "python",
   "nbconvert_exporter": "python",
   "pygments_lexer": "ipython3",
   "version": "3.7.6"
  }
 },
 "nbformat": 4,
 "nbformat_minor": 2
}
