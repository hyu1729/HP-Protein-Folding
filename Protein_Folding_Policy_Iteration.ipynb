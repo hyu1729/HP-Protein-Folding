{
 "cells": [
  {
   "cell_type": "code",
   "execution_count": 1,
   "metadata": {},
   "outputs": [],
   "source": [
    "import numpy as np\n",
    "from lattice2d_linear_env import Lattice2DLinearEnv"
   ]
  },
  {
   "cell_type": "code",
   "execution_count": 2,
   "metadata": {},
   "outputs": [],
   "source": [
    "def policy_iteration(env, discount_factor=1.0, max_iter = 10000):\n",
    "    \"\"\"\n",
    "    Policy Iteration Algorithm. Iteratively evaluates and improves a policy\n",
    "    until an optimal policy is found.\n",
    "    \n",
    "    Args:\n",
    "        env: The OpenAI environment.\n",
    "        discount_factor: Gamma discount factor.\n",
    "        max_iter: Maximum iterations\n",
    "        \n",
    "    Returns:\n",
    "        A tuple (policy, V). \n",
    "        policy is the optimal policy, a matrix of shape [S, A] where each state s\n",
    "        contains a valid probability distribution over actions.\n",
    "        V is the value function for the optimal policy.\n",
    "        \n",
    "    \"\"\"\n",
    "\n",
    "    def policy_eval(policy, env, discount_factor=1.0, theta=0.00001):\n",
    "        \"\"\"\n",
    "        Evaluate a policy given an environment and a full description of the environment's dynamics.\n",
    "\n",
    "        Args:\n",
    "            policy: [S, A] shaped matrix representing the policy.\n",
    "            env: OpenAI env. env.P represents the transition probabilities of the environment.\n",
    "                env.P[s][a] is a list of transition tuples (prob, next_state, reward, done).\n",
    "                env.nS is a number of states in the environment. \n",
    "                env.nA is a number of actions in the environment.\n",
    "            theta: We stop evaluation once our value function change is less than theta for all states.\n",
    "            discount_factor: Gamma discount factor.\n",
    "\n",
    "        Returns:\n",
    "            Vector of length env.nS representing the value function.\n",
    "        \"\"\"\n",
    "        # Start with a random (all 0) value function\n",
    "        V = np.zeros(env.nS)\n",
    "        for i in range(max_iter):\n",
    "            delta = 0\n",
    "            # For each state, perform a \"full backup\"\n",
    "            for s in range(env.nS - 3**(len(env.seq) - 2)):\n",
    "                v = 0\n",
    "                # Look at the possible next actions\n",
    "                for a, action_prob in enumerate(policy[s]):\n",
    "                    # For each action, look at the possible next states...\n",
    "                    next_state, reward, done = env.P[s][a]\n",
    "                    # Calculate the expected value\n",
    "                    v += action_prob * (reward + discount_factor * V[next_state])\n",
    "                # How much our value function changed (across any states)\n",
    "                delta = max(delta, np.abs(v - V[s]))\n",
    "                V[s] = v\n",
    "            # Stop evaluating once our value function change is below a threshold\n",
    "            if delta < theta:\n",
    "                break\n",
    "        return np.array(V)\n",
    "\n",
    "    def one_step_lookahead(state, V):\n",
    "        \"\"\"\n",
    "        Helper function to calculate the value for all action in a given state.\n",
    "        \n",
    "        Args:\n",
    "            state: The state to consider (int)\n",
    "            V: The value to use as an estimator, Vector of length env.nS\n",
    "        \n",
    "        Returns:\n",
    "            A vector of length env.nA containing the expected value of each action.\n",
    "        \"\"\"\n",
    "        A = np.zeros(env.nA)\n",
    "        for a in range(env.nA):\n",
    "            next_state, reward, done = env.P[state][a]\n",
    "            A[a] += reward + discount_factor * V[next_state]\n",
    "        return A\n",
    "    \n",
    "    # Start of policy iteration\n",
    "    # Start with a random policy\n",
    "    policy = np.ones([env.nS, env.nA]) / env.nA\n",
    "    \n",
    "    for i in range(max_iter):\n",
    "        # Evaluate the current policy\n",
    "        V = policy_eval(policy, env, discount_factor)\n",
    "        \n",
    "        # Will be set to false if we make any changes to the policy\n",
    "        policy_stable = True\n",
    "        \n",
    "        # For each state...\n",
    "        for s in range(env.nS):\n",
    "            # The best action we would take under the current policy\n",
    "            chosen_a = np.argmax(policy[s])\n",
    "            \n",
    "            # Find the best action by one-step lookahead\n",
    "            # Ties are resolved arbitarily\n",
    "            action_values = one_step_lookahead(s, V)\n",
    "            best_a = np.argmax(action_values)\n",
    "            \n",
    "            # Greedily update the policy\n",
    "            if chosen_a != best_a:\n",
    "                policy_stable = False\n",
    "            policy[s] = np.eye(env.nA)[best_a]\n",
    "        \n",
    "        # If the policy is stable we've found an optimal policy. Return it\n",
    "        if policy_stable:\n",
    "            return policy, V"
   ]
  },
  {
   "cell_type": "code",
   "execution_count": 3,
   "metadata": {},
   "outputs": [],
   "source": [
    "def run_policy(env, policy):\n",
    "    state = env.reset()\n",
    "    curr = 0\n",
    "    trajectory = ()\n",
    "    action = 0\n",
    "    next_state, reward, done, info = env.step(action)\n",
    "    env.render()\n",
    "    state=next_state\n",
    "    for i in range(len(env.seq) - 2):\n",
    "        direction = np.where(policy[curr] == 1.0)[0][0]\n",
    "        action = (3 * action + direction) % 4\n",
    "        next_state, reward, done, info = env.step(action)\n",
    "        env.render()\n",
    "        state=next_state\n",
    "        trajectory += (direction,)\n",
    "        curr = env.states_dic[trajectory]\n",
    "        if done:\n",
    "            print(\"Reward: {} | Actions: {}\".format(reward, info['actions']))\n",
    "            break"
   ]
  },
  {
   "cell_type": "code",
   "execution_count": 4,
   "metadata": {},
   "outputs": [
    {
     "name": "stderr",
     "output_type": "stream",
     "text": [
      "C:\\Users\\binyu\\Anaconda3\\lib\\site-packages\\gym\\logger.py:30: UserWarning: \u001b[33mWARN: Your agent was trapped! Ending the episode.\u001b[0m\n",
      "  warnings.warn(colorize('%s: %s'%('WARN', msg % args), 'yellow'))\n"
     ]
    }
   ],
   "source": [
    "env = Lattice2DLinearEnv(\"HHPHPHHPPH\")\n",
    "policy, v = policy_iteration(env)"
   ]
  },
  {
   "cell_type": "code",
   "execution_count": 5,
   "metadata": {},
   "outputs": [
    {
     "data": {
      "text/plain": [
       "array([4., 4., 3., ..., 0., 0., 0.])"
      ]
     },
     "execution_count": 5,
     "metadata": {},
     "output_type": "execute_result"
    }
   ],
   "source": [
    "v"
   ]
  },
  {
   "cell_type": "code",
   "execution_count": 6,
   "metadata": {},
   "outputs": [
    {
     "data": {
      "text/plain": [
       "array([[0., 1., 0.],\n",
       "       [1., 0., 0.],\n",
       "       [1., 0., 0.],\n",
       "       ...,\n",
       "       [1., 0., 0.],\n",
       "       [1., 0., 0.],\n",
       "       [1., 0., 0.]])"
      ]
     },
     "execution_count": 6,
     "metadata": {},
     "output_type": "execute_result"
    }
   ],
   "source": [
    "policy"
   ]
  },
  {
   "cell_type": "code",
   "execution_count": 7,
   "metadata": {
    "scrolled": false
   },
   "outputs": [
    {
     "name": "stdout",
     "output_type": "stream",
     "text": [
      "Reward: 4 | Actions: ['L', 'D', 'R', 'D', 'R', 'U', 'R', 'U', 'L']\n"
     ]
    },
    {
     "data": {
      "image/png": "[encoded data removed]",
      "text/plain": [
       "<Figure size 432x288 with 1 Axes>"
      ]
     },
     "metadata": {},
     "output_type": "display_data"
    },
    {
     "data": {
      "image/png": "[encoded data removed]",
      "text/plain": [
       "<Figure size 432x288 with 1 Axes>"
      ]
     },
     "metadata": {},
     "output_type": "display_data"
    },
    {
     "data": {
      "image/png": "[encoded data removed]",
      "text/plain": [
       "<Figure size 432x288 with 1 Axes>"
      ]
     },
     "metadata": {},
     "output_type": "display_data"
    },
    {
     "data": {
      "image/png": "[encoded data removed]",
      "text/plain": [
       "<Figure size 432x288 with 1 Axes>"
      ]
     },
     "metadata": {},
     "output_type": "display_data"
    },
    {
     "data": {
      "image/png": "[encoded data removed]",
      "text/plain": [
       "<Figure size 432x288 with 1 Axes>"
      ]
     },
     "metadata": {},
     "output_type": "display_data"
    },
    {
     "data": {
      "image/png": "[encoded data removed]",
      "text/plain": [
       "<Figure size 432x288 with 1 Axes>"
      ]
     },
     "metadata": {},
     "output_type": "display_data"
    },
    {
     "data": {
      "image/png": "[encoded data removed]",
      "text/plain": [
       "<Figure size 432x288 with 1 Axes>"
      ]
     },
     "metadata": {},
     "output_type": "display_data"
    },
    {
     "data": {
      "image/png": "[encoded data removed]",
      "text/plain": [
       "<Figure size 432x288 with 1 Axes>"
      ]
     },
     "metadata": {},
     "output_type": "display_data"
    },
    {
     "data": {
      "image/png": "[encoded data removed]",
      "text/plain": [
       "<Figure size 432x288 with 1 Axes>"
      ]
     },
     "metadata": {},
     "output_type": "display_data"
    }
   ],
   "source": [
    "run_policy(env, policy)"
   ]
  },
  {
   "cell_type": "code",
   "execution_count": null,
   "metadata": {},
   "outputs": [],
   "source": []
  }
 ],
 "metadata": {
  "kernelspec": {
   "display_name": "Python 3",
   "language": "python",
   "name": "python3"
  },
  "language_info": {
   "codemirror_mode": {
    "name": "ipython",
    "version": 3
   },
   "file_extension": ".py",
   "mimetype": "text/x-python",
   "name": "python",
   "nbconvert_exporter": "python",
   "pygments_lexer": "ipython3",
   "version": "3.6.5"
  }
 },
 "nbformat": 4,
 "nbformat_minor": 2
}
